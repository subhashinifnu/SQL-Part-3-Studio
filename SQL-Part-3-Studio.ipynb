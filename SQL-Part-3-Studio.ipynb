{
    "metadata": {
        "kernelspec": {
            "name": "SQL",
            "display_name": "SQL",
            "language": "sql"
        },
        "language_info": {
            "name": "sql",
            "version": ""
        },
        "extensions": {
            "azuredatastudio": {
                "version": 1,
                "views": []
            }
        }
    },
    "nbformat_minor": 2,
    "nbformat": 4,
    "cells": [
        {
            "cell_type": "markdown",
            "source": [
                "# SQL Part 3 Studio\n",
                "\n",
                "### Let's practice your SQL quering skills!  For each question, work along in the notebook adding your query and answering the questions. \n",
                "\n",
                "### **DataSet**\n",
                "\n",
                "### <span style=\"font-size: 14px; font-family: -apple-system, BlinkMacSystemFont, sans-serif;\">We will be using the Goodbooks-10k dataset from the exercises in the prep work.&nbsp; Feel free reference your previous notebooks.</span>\n",
                "\n",
                "- The dataset can be found here: [goodbooks-10k](https://www.kaggle.com/zygmunt/goodbooks-10k)\n",
                "- You can access the **BooksDB** in the Launchcode server.\n",
                "\n",
                "### **Business Issue**\n",
                "\n",
                "You are an employee at a small independet bookstore and you have been tasked to increase sales.  You decide to use the BooksDB to find books and themes to highlight in fun promotions throughout each month / season.  We will be starting with March and then you will have a chance to explore another month of your choosing.  We want to come up with a list of events/ promotions to run each month.  If you are looking for ideas to include in your promotions:\n",
                "\n",
                "- [https://www.calendarr.com/united-states/calendar-2022/](https://www.calendarr.com/united-states/calendar-2022/)\n",
                "- [https://www.holidayinsights.com/moreholidays/](https://www.holidayinsights.com/moreholidays/)\n",
                "    - Click on a month and it will take you to a more detailed page"
            ],
            "metadata": {
                "azdata_cell_guid": "b9034d8a-b631-48bf-a895-1012a6ffa784"
            },
            "attachments": {}
        },
        {
            "cell_type": "markdown",
            "source": [
                "## Part 1:  March - Women's History Month, Dr Seuss Day(3/2), National Pie Day3/14, St Patrick's Day (3/17), Season - Spring"
            ],
            "metadata": {
                "azdata_cell_guid": "6e55eb1c-4a14-4076-90d2-95ed17a6309f"
            },
            "attachments": {}
        },
        {
            "cell_type": "markdown",
            "source": [
                "### **Event 1:** Women's History Month\n",
                "\n",
                "Goal: Highlight Popular Womans Authors based on ratings from the Good Reads DB.\n",
                "\n",
                "### **Write a query that returns tag\\_id, the number of times each tag\\_id is used and the tag\\_name.**  \n",
                "\n",
                "### Use the GROUP BY and HAVING clause to narrow your focus.\n",
                "\n",
                "Try multiple keywords, ie woman vs female (female ended up giving better results)"
            ],
            "metadata": {
                "azdata_cell_guid": "d220c097-e9cf-4edd-9abe-312d071217b7"
            },
            "attachments": {}
        },
        {
            "cell_type": "code",
            "source": [
                "-- Solution\r\n",
                "SELECT TOP 10 t.tag_name ,bt.tag_id, SUM(bt.count) AS num_tag\r\n",
                "FROM BooksDB.dbo.book_tags AS bt \r\n",
                "INNER JOIN BooksDB.dbo.tags AS t \r\n",
                "ON bt.tag_id = t.tag_id\r\n",
                "-- --WHERE tag_name LIKE '%female%'\r\n",
                "GROUP BY t.tag_name,bt.tag_id\r\n",
                "HAVING t.tag_name LIKE '%female%'\r\n",
                "ORDER BY num_tag DESC;\r\n",
                ""
            ],
            "metadata": {
                "azdata_cell_guid": "e31b9d26-0386-44c7-828e-85f4f06f3ee6",
                "language": "sql",
                "tags": []
            },
            "outputs": [
                {
                    "output_type": "display_data",
                    "data": {
                        "text/html": "(10 rows affected)"
                    },
                    "metadata": {}
                },
                {
                    "output_type": "display_data",
                    "data": {
                        "text/html": "Total execution time: 00:00:00.253"
                    },
                    "metadata": {}
                },
                {
                    "output_type": "execute_result",
                    "metadata": {},
                    "execution_count": 16,
                    "data": {
                        "application/vnd.dataresource+json": {
                            "schema": {
                                "fields": [
                                    {
                                        "name": "tag_name"
                                    },
                                    {
                                        "name": "tag_id"
                                    },
                                    {
                                        "name": "num_tag"
                                    }
                                ]
                            },
                            "data": [
                                {
                                    "0": "female-author",
                                    "1": "11643",
                                    "2": "17999"
                                },
                                {
                                    "0": "female-authors",
                                    "1": "11644",
                                    "2": "13690"
                                },
                                {
                                    "0": "female-protagonist",
                                    "1": "11658",
                                    "2": "2554"
                                },
                                {
                                    "0": "female-detective",
                                    "1": "11646",
                                    "2": "302"
                                },
                                {
                                    "0": "female-pov",
                                    "1": "11656",
                                    "2": "155"
                                },
                                {
                                    "0": "female-writers",
                                    "1": "11662",
                                    "2": "147"
                                },
                                {
                                    "0": "female",
                                    "1": "11642",
                                    "2": "133"
                                },
                                {
                                    "0": "female-lead",
                                    "1": "11652",
                                    "2": "61"
                                },
                                {
                                    "0": "strong-female-lead",
                                    "1": "28834",
                                    "2": "61"
                                },
                                {
                                    "0": "female-detectives",
                                    "1": "11647",
                                    "2": "59"
                                }
                            ]
                        },
                        "text/html": [
                            "<table>",
                            "<tr><th>tag_name</th><th>tag_id</th><th>num_tag</th></tr>",
                            "<tr><td>female-author</td><td>11643</td><td>17999</td></tr>",
                            "<tr><td>female-authors</td><td>11644</td><td>13690</td></tr>",
                            "<tr><td>female-protagonist</td><td>11658</td><td>2554</td></tr>",
                            "<tr><td>female-detective</td><td>11646</td><td>302</td></tr>",
                            "<tr><td>female-pov</td><td>11656</td><td>155</td></tr>",
                            "<tr><td>female-writers</td><td>11662</td><td>147</td></tr>",
                            "<tr><td>female</td><td>11642</td><td>133</td></tr>",
                            "<tr><td>female-lead</td><td>11652</td><td>61</td></tr>",
                            "<tr><td>strong-female-lead</td><td>28834</td><td>61</td></tr>",
                            "<tr><td>female-detectives</td><td>11647</td><td>59</td></tr>",
                            "</table>"
                        ]
                    }
                }
            ],
            "execution_count": 16
        },
        {
            "cell_type": "markdown",
            "source": [
                "### **Which keyword(s) and tag(s) would you like to explore more?**\n",
                "\n",
                "Double click to edit."
            ],
            "metadata": {
                "azdata_cell_guid": "e9acd8b5-a62b-4ac0-bd07-19915b379ba6"
            },
            "attachments": {}
        },
        {
            "cell_type": "markdown",
            "source": [
                "### **Write a query to return authors, titles, ratings and** **selected tag(s)\\_id.**"
            ],
            "metadata": {
                "azdata_cell_guid": "59b84464-c0bc-4dac-9e02-0c803765b063"
            },
            "attachments": {}
        },
        {
            "cell_type": "code",
            "source": [
                "-- Solution\r\n",
                "-- SELECT b.authors,b.title,b.ratings_count,t.tag_id\r\n",
                "-- FROM BooksDB.dbo.books b\r\n",
                "-- INNER JOIN BooksDB.dbo.ratings r  on b.book_id=r.book_id\r\n",
                "-- INNER JOIN BooksDB.dbo.book_tags bt on b.best_book_id = bt.goodreads_book_id\r\n",
                "-- INNER JOIN BooksDB.dbo.tags t on bt.tag_id=t.tag_id\r\n",
                "\r\n",
                "-- SELECT TOP 5 b.title,b.authors,b.average_rating,bt.goodreads_book_id\r\n",
                "-- FROM BooksDB.dbo.books AS b\r\n",
                "-- INNER JOIN BooksDB.dbo.book_tags bt \r\n",
                "-- ON b.book_id=bt.goodreads_book_id\r\n",
                "-- WHERE tag_id = 11643\r\n",
                "-- ORDER BY tag_id , average_rating DESC ;\r\n",
                "\r\n",
                "SELECT TOP 1 b.title,b.authors,b.average_rating,t.tag_id\r\n",
                "FROM BooksDB.dbo.books AS b \r\n",
                "INNER JOIN BooksDB.dbo.tags AS t \r\n",
                "ON b.book_id = t.goodreads_book_id\r\n",
                "WHERE tag_id = 19445\r\n",
                "ORDER BY tag_id, average_rating DESC;    \r\n",
                ""
            ],
            "metadata": {
                "azdata_cell_guid": "51ffeaaf-6dde-4906-95f3-eb8757babf27",
                "tags": [],
                "language": "sql"
            },
            "outputs": [
                {
                    "output_type": "display_data",
                    "data": {
                        "text/html": "(5 rows affected)"
                    },
                    "metadata": {}
                },
                {
                    "output_type": "display_data",
                    "data": {
                        "text/html": "Total execution time: 00:00:00.171"
                    },
                    "metadata": {}
                },
                {
                    "output_type": "execute_result",
                    "metadata": {},
                    "execution_count": 22,
                    "data": {
                        "application/vnd.dataresource+json": {
                            "schema": {
                                "fields": [
                                    {
                                        "name": "title"
                                    },
                                    {
                                        "name": "authors"
                                    },
                                    {
                                        "name": "average_rating"
                                    },
                                    {
                                        "name": "goodreads_book_id"
                                    }
                                ]
                            },
                            "data": [
                                {
                                    "0": "The Harry Potter Collection 1-4 (Harry Potter, #1-4)",
                                    "1": "J.K. Rowling, Mary GrandPré",
                                    "2": "4.66",
                                    "3": "99298"
                                },
                                {
                                    "0": "Ouran High School Host Club, Vol. 15 (Ouran High School Host Club, #15)",
                                    "1": "Bisco Hatori",
                                    "2": "4.54",
                                    "3": "8163161"
                                },
                                {
                                    "0": "Fool's Quest  (The Fitz and The Fool, #2)",
                                    "1": "Robin Hobb",
                                    "2": "4.53",
                                    "3": "23157777"
                                },
                                {
                                    "0": "The New Jim Crow: Mass Incarceration in the Age of Colorblindness",
                                    "1": "Michelle Alexander",
                                    "2": "4.49",
                                    "3": "6792458"
                                },
                                {
                                    "0": "We Should All Be Feminists",
                                    "1": "Chimamanda Ngozi Adichie",
                                    "2": "4.47",
                                    "3": "22738563"
                                }
                            ]
                        },
                        "text/html": [
                            "<table>",
                            "<tr><th>title</th><th>authors</th><th>average_rating</th><th>goodreads_book_id</th></tr>",
                            "<tr><td>The Harry Potter Collection 1-4 (Harry Potter, #1-4)</td><td>J.K. Rowling, Mary GrandPré</td><td>4.66</td><td>99298</td></tr>",
                            "<tr><td>Ouran High School Host Club, Vol. 15 (Ouran High School Host Club, #15)</td><td>Bisco Hatori</td><td>4.54</td><td>8163161</td></tr>",
                            "<tr><td>Fool's Quest  (The Fitz and The Fool, #2)</td><td>Robin Hobb</td><td>4.53</td><td>23157777</td></tr>",
                            "<tr><td>The New Jim Crow: Mass Incarceration in the Age of Colorblindness</td><td>Michelle Alexander</td><td>4.49</td><td>6792458</td></tr>",
                            "<tr><td>We Should All Be Feminists</td><td>Chimamanda Ngozi Adichie</td><td>4.47</td><td>22738563</td></tr>",
                            "</table>"
                        ]
                    }
                }
            ],
            "execution_count": 22
        },
        {
            "cell_type": "markdown",
            "source": [
                "### **Record your thoughts about why you wrote the query the way you did.**"
            ],
            "metadata": {
                "azdata_cell_guid": "1e19a72c-1bca-446b-a0c7-a8efbc35dcf1"
            },
            "attachments": {}
        },
        {
            "cell_type": "markdown",
            "source": [
                "# Part 2: Choose Another Month\n",
                "\n",
                "Choose another month and plan at least 2 events / promotions and answer the following questions.\n",
                "\n",
                "Which month did you choose?  \n",
                "\n",
                "What 2 events / promotions are you highlighting?\n",
                "\n",
                "> 1.\n",
                "\n",
                "> 2."
            ],
            "metadata": {
                "azdata_cell_guid": "3eaf376d-9de3-4553-a9d0-9caf74ee3d6a"
            },
            "attachments": {}
        },
        {
            "cell_type": "markdown",
            "source": [
                "# Part 3: Summarize your Work\n",
                "\n",
                "For each event write at least one query that joins any two tables in the BooksDB to support your choice and record you thoughts as to why you used the paticlular query. At least one of your queries needs to include a HAVING clause."
            ],
            "metadata": {
                "azdata_cell_guid": "1ba1363a-4f02-4962-a95a-93b80c5926b1"
            },
            "attachments": {}
        },
        {
            "cell_type": "code",
            "source": [
                "-- Event 1 Query"
            ],
            "metadata": {
                "azdata_cell_guid": "f50d32ce-4cb2-4af2-acb1-607777a76cf8",
                "language": "sql"
            },
            "outputs": [],
            "execution_count": null
        },
        {
            "cell_type": "code",
            "source": [
                ""
            ],
            "metadata": {
                "azdata_cell_guid": "5606f7f2-c46b-42d3-ac64-7ae21c3394f8",
                "language": "sql"
            },
            "outputs": [],
            "execution_count": null
        },
        {
            "cell_type": "markdown",
            "source": [
                "### **Summary of event 1:**\n",
                "\n",
                "Double Click to edit."
            ],
            "metadata": {
                "azdata_cell_guid": "3bc72d4c-077b-42d3-9528-9aff8e7b6cf3"
            },
            "attachments": {}
        },
        {
            "cell_type": "code",
            "source": [
                "-- Event 2 Query"
            ],
            "metadata": {
                "azdata_cell_guid": "dca0a98f-065f-4b0e-9d93-fcb01cad668c",
                "language": "sql"
            },
            "outputs": [],
            "execution_count": null
        },
        {
            "cell_type": "code",
            "source": [
                ""
            ],
            "metadata": {
                "azdata_cell_guid": "3aaae3a8-eff7-4b37-8970-2d913a67239b",
                "language": "sql"
            },
            "outputs": [],
            "execution_count": null
        },
        {
            "cell_type": "markdown",
            "source": [
                "### **Summary of event 2:**\n",
                "\n",
                "Double Click to edit."
            ],
            "metadata": {
                "azdata_cell_guid": "99d518dc-cd8b-42d6-9a9d-708771c9aa99"
            },
            "attachments": {}
        },
        {
            "cell_type": "code",
            "source": [
                ""
            ],
            "metadata": {
                "azdata_cell_guid": "b66fe1b5-df43-43f2-af58-390cd81dc4c0",
                "language": "sql"
            },
            "outputs": [],
            "execution_count": null
        },
        {
            "cell_type": "markdown",
            "source": [
                ""
            ],
            "metadata": {
                "azdata_cell_guid": "1f2aa01f-d6ad-4725-8250-275d24a0e053"
            }
        },
        {
            "cell_type": "code",
            "source": [
                ""
            ],
            "metadata": {
                "azdata_cell_guid": "64850fb4-495b-4377-a342-1d5e835e53e6",
                "language": "sql"
            },
            "outputs": [],
            "execution_count": null
        }
    ]
}